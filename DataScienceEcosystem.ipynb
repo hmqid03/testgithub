{
 "cells": [
  {
   "cell_type": "code",
   "execution_count": null,
   "id": "032a54a4",
   "metadata": {},
   "outputs": [],
   "source": [
    "# In this notebook, Data Science Tools and Ecosystem are summarized."
   ]
  },
  {
   "cell_type": "code",
   "execution_count": 9,
   "id": "ce58e0b3",
   "metadata": {},
   "outputs": [],
   "source": [
    "# Objectives:"
   ]
  },
  {
   "cell_type": "markdown",
   "id": "f84e92aa",
   "metadata": {},
   "source": [
    "- List popular languages for Data Science\n",
    "- it's providde me many tools in Data Science & AI\n",
    "- I can use Git and Github for work"
   ]
  },
  {
   "cell_type": "markdown",
   "id": "c8b57003",
   "metadata": {},
   "source": [
    "<h2 style=\"color:blue; font-family:Arial;\">Author</h2>\n",
    "name"
   ]
  },
  {
   "cell_type": "code",
   "execution_count": null,
   "id": "4c1663bd",
   "metadata": {},
   "outputs": [],
   "source": []
  }
 ],
 "metadata": {
  "kernelspec": {
   "display_name": "Python 3 (ipykernel)",
   "language": "python",
   "name": "python3"
  },
  "language_info": {
   "codemirror_mode": {
    "name": "ipython",
    "version": 3
   },
   "file_extension": ".py",
   "mimetype": "text/x-python",
   "name": "python",
   "nbconvert_exporter": "python",
   "pygments_lexer": "ipython3",
   "version": "3.11.5"
  }
 },
 "nbformat": 4,
 "nbformat_minor": 5
}
